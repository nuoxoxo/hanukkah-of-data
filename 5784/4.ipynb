{
 "cells": [
  {
   "cell_type": "code",
   "execution_count": 1,
   "id": "e943e9f9-c794-4c84-8ee5-9920b1f11ac8",
   "metadata": {},
   "outputs": [
    {
     "name": "stdout",
     "output_type": "stream",
     "text": [
      "['noahs-orders', 'noahs-products', 'noahs-orders_items', 'noahs-customers']\n",
      "[213232, 1278, 426541, 8260]\n"
     ]
    }
   ],
   "source": [
    "import pandas as pd\n",
    "import os\n",
    "filenames = [_.split('.')[0] for _ in os.listdir('./') if '.csv' in _]\n",
    "print(filenames)\n",
    "\n",
    "dfs = [pd.read_csv(filename + '.csv') for filename in filenames]\n",
    "df_orders, df_prod, df_order_items, df_customers = dfs\n",
    "print([len(_) for _ in [df_orders, df_prod, df_order_items, df_customers]])"
   ]
  },
  {
   "cell_type": "code",
   "execution_count": 2,
   "id": "70bc29f1-3e6e-4507-9cc8-30141dee1bd2",
   "metadata": {},
   "outputs": [
    {
     "name": "stdout",
     "output_type": "stream",
     "text": [
      "assert/ BKY is bakery: True\n"
     ]
    },
    {
     "data": {
      "text/html": [
       "<div>\n",
       "<style scoped>\n",
       "    .dataframe tbody tr th:only-of-type {\n",
       "        vertical-align: middle;\n",
       "    }\n",
       "\n",
       "    .dataframe tbody tr th {\n",
       "        vertical-align: top;\n",
       "    }\n",
       "\n",
       "    .dataframe thead th {\n",
       "        text-align: right;\n",
       "    }\n",
       "</style>\n",
       "<table border=\"1\" class=\"dataframe\">\n",
       "  <thead>\n",
       "    <tr style=\"text-align: right;\">\n",
       "      <th></th>\n",
       "      <th>orderid</th>\n",
       "      <th>sku</th>\n",
       "      <th>qty</th>\n",
       "      <th>unit_price</th>\n",
       "    </tr>\n",
       "  </thead>\n",
       "  <tbody>\n",
       "    <tr>\n",
       "      <th>18</th>\n",
       "      <td>1009</td>\n",
       "      <td>BKY1679</td>\n",
       "      <td>2</td>\n",
       "      <td>1.08</td>\n",
       "    </tr>\n",
       "    <tr>\n",
       "      <th>294</th>\n",
       "      <td>1144</td>\n",
       "      <td>BKY5758</td>\n",
       "      <td>1</td>\n",
       "      <td>1.34</td>\n",
       "    </tr>\n",
       "    <tr>\n",
       "      <th>316</th>\n",
       "      <td>1157</td>\n",
       "      <td>BKY4760</td>\n",
       "      <td>1</td>\n",
       "      <td>1.48</td>\n",
       "    </tr>\n",
       "    <tr>\n",
       "      <th>360</th>\n",
       "      <td>1179</td>\n",
       "      <td>BKY2596</td>\n",
       "      <td>1</td>\n",
       "      <td>1.37</td>\n",
       "    </tr>\n",
       "    <tr>\n",
       "      <th>591</th>\n",
       "      <td>1299</td>\n",
       "      <td>BKY6734</td>\n",
       "      <td>1</td>\n",
       "      <td>1.07</td>\n",
       "    </tr>\n",
       "  </tbody>\n",
       "</table>\n",
       "</div>"
      ],
      "text/plain": [
       "     orderid      sku  qty  unit_price\n",
       "18      1009  BKY1679    2        1.08\n",
       "294     1144  BKY5758    1        1.34\n",
       "316     1157  BKY4760    1        1.48\n",
       "360     1179  BKY2596    1        1.37\n",
       "591     1299  BKY6734    1        1.07"
      ]
     },
     "execution_count": 2,
     "metadata": {},
     "output_type": "execute_result"
    }
   ],
   "source": [
    "bake = df_order_items[ df_order_items['sku'].str.startswith('BK') ]\n",
    "bakery = df_order_items[ df_order_items['sku'].str.startswith('BKY') ]\n",
    "print( 'assert/ BKY is bakery:', len(bake) == len(bakery) )\n",
    "bake.head()"
   ]
  },
  {
   "cell_type": "code",
   "execution_count": 3,
   "id": "06b2c69c-0063-42fd-b640-5be9f8d1982f",
   "metadata": {},
   "outputs": [
    {
     "name": "stdout",
     "output_type": "stream",
     "text": [
      "6648 /len orders\n"
     ]
    },
    {
     "data": {
      "text/html": [
       "<div>\n",
       "<style scoped>\n",
       "    .dataframe tbody tr th:only-of-type {\n",
       "        vertical-align: middle;\n",
       "    }\n",
       "\n",
       "    .dataframe tbody tr th {\n",
       "        vertical-align: top;\n",
       "    }\n",
       "\n",
       "    .dataframe thead th {\n",
       "        text-align: right;\n",
       "    }\n",
       "</style>\n",
       "<table border=\"1\" class=\"dataframe\">\n",
       "  <thead>\n",
       "    <tr style=\"text-align: right;\">\n",
       "      <th></th>\n",
       "      <th>orderid</th>\n",
       "      <th>sku</th>\n",
       "      <th>qty</th>\n",
       "      <th>unit_price</th>\n",
       "      <th>customerid</th>\n",
       "      <th>ordered</th>\n",
       "      <th>shipped</th>\n",
       "      <th>items</th>\n",
       "      <th>total</th>\n",
       "    </tr>\n",
       "  </thead>\n",
       "  <tbody>\n",
       "    <tr>\n",
       "      <th>0</th>\n",
       "      <td>1009</td>\n",
       "      <td>BKY1679</td>\n",
       "      <td>2</td>\n",
       "      <td>1.08</td>\n",
       "      <td>5294</td>\n",
       "      <td>2017-01-31 08:18:29</td>\n",
       "      <td>2017-01-31 08:18:29</td>\n",
       "      <td>NaN</td>\n",
       "      <td>23.63</td>\n",
       "    </tr>\n",
       "    <tr>\n",
       "      <th>1</th>\n",
       "      <td>1144</td>\n",
       "      <td>BKY5758</td>\n",
       "      <td>1</td>\n",
       "      <td>1.34</td>\n",
       "      <td>2881</td>\n",
       "      <td>2017-02-01 15:33:28</td>\n",
       "      <td>2017-02-01 15:33:28</td>\n",
       "      <td>NaN</td>\n",
       "      <td>1.34</td>\n",
       "    </tr>\n",
       "    <tr>\n",
       "      <th>2</th>\n",
       "      <td>1157</td>\n",
       "      <td>BKY4760</td>\n",
       "      <td>1</td>\n",
       "      <td>1.48</td>\n",
       "      <td>4717</td>\n",
       "      <td>2017-02-01 16:50:20</td>\n",
       "      <td>2017-02-01 16:50:20</td>\n",
       "      <td>NaN</td>\n",
       "      <td>5.34</td>\n",
       "    </tr>\n",
       "    <tr>\n",
       "      <th>3</th>\n",
       "      <td>1179</td>\n",
       "      <td>BKY2596</td>\n",
       "      <td>1</td>\n",
       "      <td>1.37</td>\n",
       "      <td>2446</td>\n",
       "      <td>2017-02-01 20:25:07</td>\n",
       "      <td>2017-02-07 14:00:00</td>\n",
       "      <td>NaN</td>\n",
       "      <td>4.21</td>\n",
       "    </tr>\n",
       "    <tr>\n",
       "      <th>4</th>\n",
       "      <td>1299</td>\n",
       "      <td>BKY6734</td>\n",
       "      <td>1</td>\n",
       "      <td>1.07</td>\n",
       "      <td>3930</td>\n",
       "      <td>2017-02-03 00:59:19</td>\n",
       "      <td>2017-02-03 14:00:00</td>\n",
       "      <td>NaN</td>\n",
       "      <td>5.53</td>\n",
       "    </tr>\n",
       "  </tbody>\n",
       "</table>\n",
       "</div>"
      ],
      "text/plain": [
       "   orderid      sku  qty  unit_price  customerid              ordered  \\\n",
       "0     1009  BKY1679    2        1.08        5294  2017-01-31 08:18:29   \n",
       "1     1144  BKY5758    1        1.34        2881  2017-02-01 15:33:28   \n",
       "2     1157  BKY4760    1        1.48        4717  2017-02-01 16:50:20   \n",
       "3     1179  BKY2596    1        1.37        2446  2017-02-01 20:25:07   \n",
       "4     1299  BKY6734    1        1.07        3930  2017-02-03 00:59:19   \n",
       "\n",
       "               shipped  items  total  \n",
       "0  2017-01-31 08:18:29    NaN  23.63  \n",
       "1  2017-02-01 15:33:28    NaN   1.34  \n",
       "2  2017-02-01 16:50:20    NaN   5.34  \n",
       "3  2017-02-07 14:00:00    NaN   4.21  \n",
       "4  2017-02-03 14:00:00    NaN   5.53  "
      ]
     },
     "execution_count": 3,
     "metadata": {},
     "output_type": "execute_result"
    }
   ],
   "source": [
    "bakery_orders = pd.merge(bakery, df_orders, on='orderid', sort=True)\n",
    "print( len(bakery_orders), '/len orders')\n",
    "bakery_orders.head()"
   ]
  },
  {
   "cell_type": "code",
   "execution_count": 4,
   "id": "1cee6ee2-f123-4be9-9e6a-4f9245769c58",
   "metadata": {},
   "outputs": [
    {
     "name": "stdout",
     "output_type": "stream",
     "text": [
      "187 /len orders\n"
     ]
    },
    {
     "data": {
      "text/html": [
       "<div>\n",
       "<style scoped>\n",
       "    .dataframe tbody tr th:only-of-type {\n",
       "        vertical-align: middle;\n",
       "    }\n",
       "\n",
       "    .dataframe tbody tr th {\n",
       "        vertical-align: top;\n",
       "    }\n",
       "\n",
       "    .dataframe thead th {\n",
       "        text-align: right;\n",
       "    }\n",
       "</style>\n",
       "<table border=\"1\" class=\"dataframe\">\n",
       "  <thead>\n",
       "    <tr style=\"text-align: right;\">\n",
       "      <th></th>\n",
       "      <th>orderid</th>\n",
       "      <th>sku</th>\n",
       "      <th>qty</th>\n",
       "      <th>unit_price</th>\n",
       "      <th>customerid</th>\n",
       "      <th>ordered</th>\n",
       "      <th>shipped</th>\n",
       "      <th>items</th>\n",
       "      <th>total</th>\n",
       "    </tr>\n",
       "  </thead>\n",
       "  <tbody>\n",
       "    <tr>\n",
       "      <th>38</th>\n",
       "      <td>2794</td>\n",
       "      <td>BKY5054</td>\n",
       "      <td>1</td>\n",
       "      <td>1.19</td>\n",
       "      <td>3903</td>\n",
       "      <td>2017-02-17 03:33:43</td>\n",
       "      <td>2017-02-17 04:15:00</td>\n",
       "      <td>NaN</td>\n",
       "      <td>8.81</td>\n",
       "    </tr>\n",
       "    <tr>\n",
       "      <th>39</th>\n",
       "      <td>2794</td>\n",
       "      <td>BKY7716</td>\n",
       "      <td>1</td>\n",
       "      <td>1.47</td>\n",
       "      <td>3903</td>\n",
       "      <td>2017-02-17 03:33:43</td>\n",
       "      <td>2017-02-17 04:15:00</td>\n",
       "      <td>NaN</td>\n",
       "      <td>8.81</td>\n",
       "    </tr>\n",
       "    <tr>\n",
       "      <th>53</th>\n",
       "      <td>3328</td>\n",
       "      <td>BKY4760</td>\n",
       "      <td>1</td>\n",
       "      <td>1.42</td>\n",
       "      <td>1611</td>\n",
       "      <td>2017-02-22 05:22:22</td>\n",
       "      <td>2017-02-22 18:00:00</td>\n",
       "      <td>NaN</td>\n",
       "      <td>18.19</td>\n",
       "    </tr>\n",
       "    <tr>\n",
       "      <th>91</th>\n",
       "      <td>4524</td>\n",
       "      <td>BKY4760</td>\n",
       "      <td>1</td>\n",
       "      <td>1.46</td>\n",
       "      <td>6202</td>\n",
       "      <td>2017-03-06 05:41:34</td>\n",
       "      <td>2017-03-06 19:15:00</td>\n",
       "      <td>NaN</td>\n",
       "      <td>4.89</td>\n",
       "    </tr>\n",
       "    <tr>\n",
       "      <th>103</th>\n",
       "      <td>5117</td>\n",
       "      <td>BKY1679</td>\n",
       "      <td>1</td>\n",
       "      <td>1.46</td>\n",
       "      <td>3301</td>\n",
       "      <td>2017-03-12 05:25:50</td>\n",
       "      <td>2017-03-12 16:45:00</td>\n",
       "      <td>NaN</td>\n",
       "      <td>3.65</td>\n",
       "    </tr>\n",
       "  </tbody>\n",
       "</table>\n",
       "</div>"
      ],
      "text/plain": [
       "     orderid      sku  qty  unit_price  customerid              ordered  \\\n",
       "38      2794  BKY5054    1        1.19        3903  2017-02-17 03:33:43   \n",
       "39      2794  BKY7716    1        1.47        3903  2017-02-17 03:33:43   \n",
       "53      3328  BKY4760    1        1.42        1611  2017-02-22 05:22:22   \n",
       "91      4524  BKY4760    1        1.46        6202  2017-03-06 05:41:34   \n",
       "103     5117  BKY1679    1        1.46        3301  2017-03-12 05:25:50   \n",
       "\n",
       "                 shipped  items  total  \n",
       "38   2017-02-17 04:15:00    NaN   8.81  \n",
       "39   2017-02-17 04:15:00    NaN   8.81  \n",
       "53   2017-02-22 18:00:00    NaN  18.19  \n",
       "91   2017-03-06 19:15:00    NaN   4.89  \n",
       "103  2017-03-12 16:45:00    NaN   3.65  "
      ]
     },
     "execution_count": 4,
     "metadata": {},
     "output_type": "execute_result"
    }
   ],
   "source": [
    "def find_2017_5am_bakery (dt_string):\n",
    "    date, time = dt_string.split()\n",
    "    return 0<int(time.split(':')[0])<6\n",
    "early_morning_bakery_orders = bakery_orders[ bakery_orders['ordered'].apply(lambda x: find_2017_5am_bakery (x)) ]\n",
    "print( len(early_morning_bakery_orders), '/len orders')\n",
    "early_morning_bakery_orders.head()"
   ]
  },
  {
   "cell_type": "code",
   "execution_count": 5,
   "id": "66049167-ee7b-44f7-8cb1-a78e93e4b7bf",
   "metadata": {},
   "outputs": [
    {
     "name": "stdout",
     "output_type": "stream",
     "text": [
      "187 /len res\n"
     ]
    },
    {
     "data": {
      "text/plain": [
       "name            phone       \n",
       "Renee Harmon    607-231-3605    6\n",
       "Robin Davis     315-629-9164    4\n",
       "Lindsey Mays    631-280-4337    3\n",
       "Scott Hayes II  631-923-6868    3\n",
       "dtype: int64"
      ]
     },
     "execution_count": 5,
     "metadata": {},
     "output_type": "execute_result"
    }
   ],
   "source": [
    "res = pd.merge(early_morning_bakery_orders, df_customers, on='customerid', sort=True)\n",
    "print( len(res), '/len res')\n",
    "res.groupby(['name','phone']).size().sort_values(ascending=False).head(4)"
   ]
  }
 ],
 "metadata": {
  "kernelspec": {
   "display_name": "Python 3 (ipykernel)",
   "language": "python",
   "name": "python3"
  },
  "language_info": {
   "codemirror_mode": {
    "name": "ipython",
    "version": 3
   },
   "file_extension": ".py",
   "mimetype": "text/x-python",
   "name": "python",
   "nbconvert_exporter": "python",
   "pygments_lexer": "ipython3",
   "version": "3.12.1"
  }
 },
 "nbformat": 4,
 "nbformat_minor": 5
}
