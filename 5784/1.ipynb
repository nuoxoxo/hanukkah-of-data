{
 "cells": [
  {
   "cell_type": "markdown",
   "id": "e60e3f52-50d8-4cd2-bab4-c481b10ddd97",
   "metadata": {},
   "source": [
    "# Read the input\n",
    "We only need to focus on one table for now."
   ]
  },
  {
   "cell_type": "code",
   "execution_count": 1,
   "id": "421114b9-6487-428f-8b19-ceea74d0a6f9",
   "metadata": {},
   "outputs": [
    {
     "data": {
      "text/html": [
       "<div>\n",
       "<style scoped>\n",
       "    .dataframe tbody tr th:only-of-type {\n",
       "        vertical-align: middle;\n",
       "    }\n",
       "\n",
       "    .dataframe tbody tr th {\n",
       "        vertical-align: top;\n",
       "    }\n",
       "\n",
       "    .dataframe thead th {\n",
       "        text-align: right;\n",
       "    }\n",
       "</style>\n",
       "<table border=\"1\" class=\"dataframe\">\n",
       "  <thead>\n",
       "    <tr style=\"text-align: right;\">\n",
       "      <th></th>\n",
       "      <th>customerid</th>\n",
       "      <th>name</th>\n",
       "      <th>address</th>\n",
       "      <th>citystatezip</th>\n",
       "      <th>birthdate</th>\n",
       "      <th>phone</th>\n",
       "      <th>timezone</th>\n",
       "      <th>lat</th>\n",
       "      <th>long</th>\n",
       "    </tr>\n",
       "  </thead>\n",
       "  <tbody>\n",
       "    <tr>\n",
       "      <th>0</th>\n",
       "      <td>1001</td>\n",
       "      <td>Jacqueline Alvarez</td>\n",
       "      <td>105N Elizabeth St</td>\n",
       "      <td>Manhattan, NY 10013</td>\n",
       "      <td>1958-01-23</td>\n",
       "      <td>315-377-5031</td>\n",
       "      <td>America/New_York</td>\n",
       "      <td>40.71817</td>\n",
       "      <td>-73.997468</td>\n",
       "    </tr>\n",
       "    <tr>\n",
       "      <th>1</th>\n",
       "      <td>1002</td>\n",
       "      <td>Julie Howell</td>\n",
       "      <td>185-1 Linden St</td>\n",
       "      <td>Brooklyn, NY 11221</td>\n",
       "      <td>1956-12-03</td>\n",
       "      <td>680-537-8725</td>\n",
       "      <td>America/New_York</td>\n",
       "      <td>40.69426</td>\n",
       "      <td>-73.921670</td>\n",
       "    </tr>\n",
       "  </tbody>\n",
       "</table>\n",
       "</div>"
      ],
      "text/plain": [
       "   customerid                name            address         citystatezip  \\\n",
       "0        1001  Jacqueline Alvarez  105N Elizabeth St  Manhattan, NY 10013   \n",
       "1        1002        Julie Howell    185-1 Linden St   Brooklyn, NY 11221   \n",
       "\n",
       "    birthdate         phone          timezone       lat       long  \n",
       "0  1958-01-23  315-377-5031  America/New_York  40.71817 -73.997468  \n",
       "1  1956-12-03  680-537-8725  America/New_York  40.69426 -73.921670  "
      ]
     },
     "execution_count": 1,
     "metadata": {},
     "output_type": "execute_result"
    }
   ],
   "source": [
    "import pandas as pd\n",
    "df = pd.read_csv('noahs-customers.csv')\n",
    "df.head(2)"
   ]
  },
  {
   "cell_type": "markdown",
   "id": "746fba05-e098-45e3-a053-8c387ef09048",
   "metadata": {},
   "source": [
    "# See what headers/labels they have"
   ]
  },
  {
   "cell_type": "code",
   "execution_count": 2,
   "id": "6779ef0e-6bf3-469e-8276-c145959206cc",
   "metadata": {},
   "outputs": [
    {
     "data": {
      "text/plain": [
       "Index(['customerid', 'name', 'address', 'citystatezip', 'birthdate', 'phone',\n",
       "       'timezone', 'lat', 'long'],\n",
       "      dtype='object')"
      ]
     },
     "execution_count": 2,
     "metadata": {},
     "output_type": "execute_result"
    }
   ],
   "source": [
    "df.columns"
   ]
  },
  {
   "cell_type": "code",
   "execution_count": 3,
   "id": "41e240fa-df87-407f-9ccd-f8f43f279399",
   "metadata": {},
   "outputs": [
    {
     "data": {
      "text/plain": [
       "'customerid, name, address, citystatezip, birthdate, phone, timezone, lat, long'"
      ]
     },
     "execution_count": 3,
     "metadata": {},
     "output_type": "execute_result"
    }
   ],
   "source": [
    "', '.join([ _ for _ in df ])"
   ]
  },
  {
   "cell_type": "code",
   "execution_count": 4,
   "id": "74531a67-9912-4fe7-bc1d-c851253defca",
   "metadata": {},
   "outputs": [
    {
     "name": "stdout",
     "output_type": "stream",
     "text": [
      "customerid\n",
      "name\n",
      "address\n",
      "citystatezip\n",
      "birthdate\n",
      "phone\n",
      "timezone\n",
      "lat\n",
      "long\n"
     ]
    }
   ],
   "source": [
    "for line in df: print(line)"
   ]
  },
  {
   "cell_type": "markdown",
   "id": "4855abdb-7347-41cf-9f82-afab901e4b58",
   "metadata": {},
   "source": [
    "# Step 1: Phone - We need phone numbers w/o hyphens"
   ]
  },
  {
   "cell_type": "code",
   "execution_count": 5,
   "id": "6a94896c-a82c-4259-84d1-986ebc43ad85",
   "metadata": {},
   "outputs": [
    {
     "data": {
      "text/plain": [
       "0    315-377-5031\n",
       "1    680-537-8725\n",
       "2    315-846-6054\n",
       "3    516-275-2292\n",
       "4    838-830-6960\n",
       "Name: phone, dtype: object"
      ]
     },
     "execution_count": 5,
     "metadata": {},
     "output_type": "execute_result"
    }
   ],
   "source": [
    "phones = df['phone']\n",
    "phones.head()"
   ]
  },
  {
   "cell_type": "markdown",
   "id": "3de1a3d1-cdda-44d7-b204-e025ef1b91b6",
   "metadata": {},
   "source": [
    "# Use `pandas.Series.str` for the job"
   ]
  },
  {
   "cell_type": "code",
   "execution_count": 6,
   "id": "37a230d8-f0b2-49fe-9a8c-8cbcf81e5e5f",
   "metadata": {},
   "outputs": [
    {
     "data": {
      "text/plain": [
       "0       [315, 377, 5031]\n",
       "1       [680, 537, 8725]\n",
       "2       [315, 846, 6054]\n",
       "3       [516, 275, 2292]\n",
       "4       [838, 830, 6960]\n",
       "              ...       \n",
       "8255    [914, 511, 7261]\n",
       "8256    [516, 774, 9355]\n",
       "8257    [719, 991, 9904]\n",
       "8258    [516, 361, 8507]\n",
       "8259    [415, 339, 0869]\n",
       "Name: phone, Length: 8260, dtype: object"
      ]
     },
     "execution_count": 6,
     "metadata": {},
     "output_type": "execute_result"
    }
   ],
   "source": [
    "phones.str.split('-')"
   ]
  },
  {
   "cell_type": "code",
   "execution_count": 7,
   "id": "62ade91a-1147-4d24-84f9-a779b52cea42",
   "metadata": {},
   "outputs": [],
   "source": [
    "phones = phones.str.replace('-','')"
   ]
  },
  {
   "cell_type": "markdown",
   "id": "40314e37-9a83-439e-8acf-9b66c20dff76",
   "metadata": {},
   "source": [
    "# Add it as a new col in DF"
   ]
  },
  {
   "cell_type": "code",
   "execution_count": 8,
   "id": "1391e038-e13c-47b3-a74d-1986690d29b1",
   "metadata": {},
   "outputs": [
    {
     "data": {
      "text/html": [
       "<div>\n",
       "<style scoped>\n",
       "    .dataframe tbody tr th:only-of-type {\n",
       "        vertical-align: middle;\n",
       "    }\n",
       "\n",
       "    .dataframe tbody tr th {\n",
       "        vertical-align: top;\n",
       "    }\n",
       "\n",
       "    .dataframe thead th {\n",
       "        text-align: right;\n",
       "    }\n",
       "</style>\n",
       "<table border=\"1\" class=\"dataframe\">\n",
       "  <thead>\n",
       "    <tr style=\"text-align: right;\">\n",
       "      <th></th>\n",
       "      <th>customerid</th>\n",
       "      <th>name</th>\n",
       "      <th>address</th>\n",
       "      <th>citystatezip</th>\n",
       "      <th>birthdate</th>\n",
       "      <th>phone</th>\n",
       "      <th>timezone</th>\n",
       "      <th>lat</th>\n",
       "      <th>long</th>\n",
       "      <th>phone2</th>\n",
       "    </tr>\n",
       "  </thead>\n",
       "  <tbody>\n",
       "    <tr>\n",
       "      <th>0</th>\n",
       "      <td>1001</td>\n",
       "      <td>Jacqueline Alvarez</td>\n",
       "      <td>105N Elizabeth St</td>\n",
       "      <td>Manhattan, NY 10013</td>\n",
       "      <td>1958-01-23</td>\n",
       "      <td>315-377-5031</td>\n",
       "      <td>America/New_York</td>\n",
       "      <td>40.71817</td>\n",
       "      <td>-73.997468</td>\n",
       "      <td>3153775031</td>\n",
       "    </tr>\n",
       "    <tr>\n",
       "      <th>1</th>\n",
       "      <td>1002</td>\n",
       "      <td>Julie Howell</td>\n",
       "      <td>185-1 Linden St</td>\n",
       "      <td>Brooklyn, NY 11221</td>\n",
       "      <td>1956-12-03</td>\n",
       "      <td>680-537-8725</td>\n",
       "      <td>America/New_York</td>\n",
       "      <td>40.69426</td>\n",
       "      <td>-73.921670</td>\n",
       "      <td>6805378725</td>\n",
       "    </tr>\n",
       "  </tbody>\n",
       "</table>\n",
       "</div>"
      ],
      "text/plain": [
       "   customerid                name            address         citystatezip  \\\n",
       "0        1001  Jacqueline Alvarez  105N Elizabeth St  Manhattan, NY 10013   \n",
       "1        1002        Julie Howell    185-1 Linden St   Brooklyn, NY 11221   \n",
       "\n",
       "    birthdate         phone          timezone       lat       long      phone2  \n",
       "0  1958-01-23  315-377-5031  America/New_York  40.71817 -73.997468  3153775031  \n",
       "1  1956-12-03  680-537-8725  America/New_York  40.69426 -73.921670  6805378725  "
      ]
     },
     "execution_count": 8,
     "metadata": {},
     "output_type": "execute_result"
    }
   ],
   "source": [
    "df['phone2'] = phones\n",
    "df.head(2)"
   ]
  },
  {
   "cell_type": "markdown",
   "id": "ea111502-2bdb-4441-9e16-7e0c8c5d6c45",
   "metadata": {},
   "source": [
    "# Place the 2 phone-cols together"
   ]
  },
  {
   "cell_type": "markdown",
   "id": "91233e09-102e-4a75-acc6-400452700e0b",
   "metadata": {},
   "source": [
    "- ### First we get the individual index of each phone-col\n",
    "\n",
    "> `columns.get_loc` is like indexOf \\\n",
    "> `columns[n]` ---> access by index"
   ]
  },
  {
   "cell_type": "code",
   "execution_count": 9,
   "id": "558107b4-958f-4824-9d4d-750e2702a888",
   "metadata": {},
   "outputs": [
    {
     "data": {
      "text/plain": [
       "(5, 'phone')"
      ]
     },
     "execution_count": 9,
     "metadata": {},
     "output_type": "execute_result"
    }
   ],
   "source": [
    "left_loc = df.columns.get_loc('phone')\n",
    "left_loc, df.columns[left_loc]"
   ]
  },
  {
   "cell_type": "code",
   "execution_count": 10,
   "id": "e1e706d7-ce5e-4205-8321-feb3ee3fcd9a",
   "metadata": {},
   "outputs": [
    {
     "data": {
      "text/plain": [
       "(9, 'phone2')"
      ]
     },
     "execution_count": 10,
     "metadata": {},
     "output_type": "execute_result"
    }
   ],
   "source": [
    "right_loc = df.columns.get_loc('phone2')\n",
    "right_loc, df.columns[right_loc]"
   ]
  },
  {
   "cell_type": "markdown",
   "id": "8c799693-f2f7-4863-bcd1-8ee623fd3c32",
   "metadata": {},
   "source": [
    "- ### Then we get a list of column-labels\n",
    "> --> `.columns` returns an Index object \\\n",
    " ---> `.tolist` called on the object gives you a list"
   ]
  },
  {
   "cell_type": "code",
   "execution_count": 11,
   "id": "d65d3460-2b2c-4dfa-ae09-383087e7c1ec",
   "metadata": {},
   "outputs": [
    {
     "data": {
      "text/plain": [
       "['customerid',\n",
       " 'name',\n",
       " 'address',\n",
       " 'citystatezip',\n",
       " 'birthdate',\n",
       " 'phone',\n",
       " 'timezone',\n",
       " 'lat',\n",
       " 'long',\n",
       " 'phone2']"
      ]
     },
     "execution_count": 11,
     "metadata": {},
     "output_type": "execute_result"
    }
   ],
   "source": [
    "Cols = df.columns.tolist()\n",
    "Cols"
   ]
  },
  {
   "cell_type": "markdown",
   "id": "c176d028-1a04-4e11-a761-124a6d926899",
   "metadata": {},
   "source": [
    "### Finally, manipulate the order of columns\n",
    "---> Swap the positions of two columns ('phone' and 'phone2')"
   ]
  },
  {
   "cell_type": "code",
   "execution_count": 12,
   "id": "fbe80e47-bfae-4ce2-b664-3747cb0d2841",
   "metadata": {},
   "outputs": [
    {
     "data": {
      "text/plain": [
       "['customerid',\n",
       " 'name',\n",
       " 'address',\n",
       " 'citystatezip',\n",
       " 'birthdate',\n",
       " 'phone',\n",
       " 'phone2',\n",
       " 'timezone',\n",
       " 'lat',\n",
       " 'long']"
      ]
     },
     "execution_count": 12,
     "metadata": {},
     "output_type": "execute_result"
    }
   ],
   "source": [
    "Cols = \\\n",
    "Cols[:left_loc + 1] + Cols[right_loc : right_loc + 1] + Cols[left_loc + 1:right_loc]\n",
    "Cols"
   ]
  },
  {
   "cell_type": "markdown",
   "id": "f2cfd707-5a9e-4ece-912b-e7ff7d03749b",
   "metadata": {},
   "source": [
    "### 👇 This syntax creates a new DataFrame of rearranged order"
   ]
  },
  {
   "cell_type": "code",
   "execution_count": 13,
   "id": "ccb6fa2e-bda0-4dd3-a64d-1a77ecdb4fb6",
   "metadata": {},
   "outputs": [
    {
     "data": {
      "text/html": [
       "<div>\n",
       "<style scoped>\n",
       "    .dataframe tbody tr th:only-of-type {\n",
       "        vertical-align: middle;\n",
       "    }\n",
       "\n",
       "    .dataframe tbody tr th {\n",
       "        vertical-align: top;\n",
       "    }\n",
       "\n",
       "    .dataframe thead th {\n",
       "        text-align: right;\n",
       "    }\n",
       "</style>\n",
       "<table border=\"1\" class=\"dataframe\">\n",
       "  <thead>\n",
       "    <tr style=\"text-align: right;\">\n",
       "      <th></th>\n",
       "      <th>customerid</th>\n",
       "      <th>name</th>\n",
       "      <th>address</th>\n",
       "      <th>citystatezip</th>\n",
       "      <th>birthdate</th>\n",
       "      <th>phone</th>\n",
       "      <th>phone2</th>\n",
       "      <th>timezone</th>\n",
       "      <th>lat</th>\n",
       "      <th>long</th>\n",
       "    </tr>\n",
       "  </thead>\n",
       "  <tbody>\n",
       "    <tr>\n",
       "      <th>0</th>\n",
       "      <td>1001</td>\n",
       "      <td>Jacqueline Alvarez</td>\n",
       "      <td>105N Elizabeth St</td>\n",
       "      <td>Manhattan, NY 10013</td>\n",
       "      <td>1958-01-23</td>\n",
       "      <td>315-377-5031</td>\n",
       "      <td>3153775031</td>\n",
       "      <td>America/New_York</td>\n",
       "      <td>40.71817</td>\n",
       "      <td>-73.997468</td>\n",
       "    </tr>\n",
       "    <tr>\n",
       "      <th>1</th>\n",
       "      <td>1002</td>\n",
       "      <td>Julie Howell</td>\n",
       "      <td>185-1 Linden St</td>\n",
       "      <td>Brooklyn, NY 11221</td>\n",
       "      <td>1956-12-03</td>\n",
       "      <td>680-537-8725</td>\n",
       "      <td>6805378725</td>\n",
       "      <td>America/New_York</td>\n",
       "      <td>40.69426</td>\n",
       "      <td>-73.921670</td>\n",
       "    </tr>\n",
       "    <tr>\n",
       "      <th>2</th>\n",
       "      <td>1003</td>\n",
       "      <td>Christopher Ali</td>\n",
       "      <td>174-28 Baisley Blvd</td>\n",
       "      <td>Jamaica, NY 11434</td>\n",
       "      <td>2001-09-20</td>\n",
       "      <td>315-846-6054</td>\n",
       "      <td>3158466054</td>\n",
       "      <td>America/New_York</td>\n",
       "      <td>40.68902</td>\n",
       "      <td>-73.773470</td>\n",
       "    </tr>\n",
       "    <tr>\n",
       "      <th>3</th>\n",
       "      <td>1004</td>\n",
       "      <td>Christopher Rodriguez</td>\n",
       "      <td>102 Mount Hope Pl</td>\n",
       "      <td>Bronx, NY 10453</td>\n",
       "      <td>1959-07-10</td>\n",
       "      <td>516-275-2292</td>\n",
       "      <td>5162752292</td>\n",
       "      <td>America/New_York</td>\n",
       "      <td>40.84939</td>\n",
       "      <td>-73.909160</td>\n",
       "    </tr>\n",
       "    <tr>\n",
       "      <th>4</th>\n",
       "      <td>1005</td>\n",
       "      <td>Jeffrey Wilkinson</td>\n",
       "      <td>17 St Marks Pl</td>\n",
       "      <td>Manhattan, NY 10003</td>\n",
       "      <td>1988-09-08</td>\n",
       "      <td>838-830-6960</td>\n",
       "      <td>8388306960</td>\n",
       "      <td>America/New_York</td>\n",
       "      <td>40.72804</td>\n",
       "      <td>-73.987120</td>\n",
       "    </tr>\n",
       "  </tbody>\n",
       "</table>\n",
       "</div>"
      ],
      "text/plain": [
       "   customerid                   name              address  \\\n",
       "0        1001     Jacqueline Alvarez    105N Elizabeth St   \n",
       "1        1002           Julie Howell      185-1 Linden St   \n",
       "2        1003        Christopher Ali  174-28 Baisley Blvd   \n",
       "3        1004  Christopher Rodriguez    102 Mount Hope Pl   \n",
       "4        1005      Jeffrey Wilkinson       17 St Marks Pl   \n",
       "\n",
       "          citystatezip   birthdate         phone      phone2  \\\n",
       "0  Manhattan, NY 10013  1958-01-23  315-377-5031  3153775031   \n",
       "1   Brooklyn, NY 11221  1956-12-03  680-537-8725  6805378725   \n",
       "2    Jamaica, NY 11434  2001-09-20  315-846-6054  3158466054   \n",
       "3      Bronx, NY 10453  1959-07-10  516-275-2292  5162752292   \n",
       "4  Manhattan, NY 10003  1988-09-08  838-830-6960  8388306960   \n",
       "\n",
       "           timezone       lat       long  \n",
       "0  America/New_York  40.71817 -73.997468  \n",
       "1  America/New_York  40.69426 -73.921670  \n",
       "2  America/New_York  40.68902 -73.773470  \n",
       "3  America/New_York  40.84939 -73.909160  \n",
       "4  America/New_York  40.72804 -73.987120  "
      ]
     },
     "execution_count": 13,
     "metadata": {},
     "output_type": "execute_result"
    }
   ],
   "source": [
    "df = df[Cols]\n",
    "df.head()"
   ]
  },
  {
   "cell_type": "markdown",
   "id": "0543bcf9-8347-4809-9d9e-11d6c728d461",
   "metadata": {},
   "source": [
    "# Step 2: Lastnames : to be extracted from full names\n",
    "---> idea : `name.split()[-1]` will do"
   ]
  },
  {
   "cell_type": "markdown",
   "id": "852b826f-bf33-4291-870e-b733857326c3",
   "metadata": {},
   "source": [
    "### First, we need all names"
   ]
  },
  {
   "cell_type": "code",
   "execution_count": 14,
   "id": "5ffa0a99-0a6b-41c5-a158-c2e9d27ee907",
   "metadata": {},
   "outputs": [
    {
     "data": {
      "text/plain": [
       "0             [Jacqueline, Alvarez]\n",
       "1                   [Julie, Howell]\n",
       "2                [Christopher, Ali]\n",
       "3          [Christopher, Rodriguez]\n",
       "4              [Jeffrey, Wilkinson]\n",
       "                   ...             \n",
       "8255              [Leslie, Johnson]\n",
       "8256               [Susan, Gilmore]\n",
       "8257    [Valerie, Michelle, Bowman]\n",
       "8258                  [Sandy, Rios]\n",
       "8259              [Michael, Brooks]\n",
       "Name: name, Length: 8260, dtype: object"
      ]
     },
     "execution_count": 14,
     "metadata": {},
     "output_type": "execute_result"
    }
   ],
   "source": [
    "df['name'].str.split()"
   ]
  },
  {
   "cell_type": "markdown",
   "id": "bed694c1-8e75-4b83-9ddb-8f4d05c08468",
   "metadata": {},
   "source": [
    "### Now under the label 'name' are list of strings\n",
    "\n",
    "> ONE way to do this is lambda"
   ]
  },
  {
   "cell_type": "code",
   "execution_count": 15,
   "id": "b7940df4-dcf3-4cad-ab05-c819d09be486",
   "metadata": {},
   "outputs": [
    {
     "data": {
      "text/plain": [
       "0         Alvarez\n",
       "1          Howell\n",
       "2             Ali\n",
       "3       Rodriguez\n",
       "4       Wilkinson\n",
       "          ...    \n",
       "8255      Johnson\n",
       "8256      Gilmore\n",
       "8257       Bowman\n",
       "8258         Rios\n",
       "8259       Brooks\n",
       "Name: name, Length: 8260, dtype: object"
      ]
     },
     "execution_count": 15,
     "metadata": {},
     "output_type": "execute_result"
    }
   ],
   "source": [
    "df['name'].str.split().apply(lambda x: x[-1])"
   ]
  },
  {
   "cell_type": "markdown",
   "id": "846e19f1-e157-440c-8c65-1114e8502637",
   "metadata": {},
   "source": [
    "> BUT we can also simply do `Series.str[-1]`"
   ]
  },
  {
   "cell_type": "code",
   "execution_count": 16,
   "id": "ae0119e6-b632-4e33-b1eb-5a7aed1b6e05",
   "metadata": {},
   "outputs": [],
   "source": [
    "lastname = df['name'].str.split().str[-1]"
   ]
  },
  {
   "cell_type": "markdown",
   "id": "faf1d397-4caf-4106-a1dd-cf8319210941",
   "metadata": {},
   "source": [
    "# Step 3: Last name to 'numpad' numbers"
   ]
  },
  {
   "cell_type": "code",
   "execution_count": 17,
   "id": "8a94dc10-e89f-45e6-a77f-9b7615c86027",
   "metadata": {},
   "outputs": [
    {
     "data": {
      "text/html": [
       "<div>\n",
       "<style scoped>\n",
       "    .dataframe tbody tr th:only-of-type {\n",
       "        vertical-align: middle;\n",
       "    }\n",
       "\n",
       "    .dataframe tbody tr th {\n",
       "        vertical-align: top;\n",
       "    }\n",
       "\n",
       "    .dataframe thead th {\n",
       "        text-align: right;\n",
       "    }\n",
       "</style>\n",
       "<table border=\"1\" class=\"dataframe\">\n",
       "  <thead>\n",
       "    <tr style=\"text-align: right;\">\n",
       "      <th></th>\n",
       "      <th>customerid</th>\n",
       "      <th>name</th>\n",
       "      <th>address</th>\n",
       "      <th>citystatezip</th>\n",
       "      <th>birthdate</th>\n",
       "      <th>phone</th>\n",
       "      <th>phone2</th>\n",
       "      <th>timezone</th>\n",
       "      <th>lat</th>\n",
       "      <th>long</th>\n",
       "      <th>phone3</th>\n",
       "    </tr>\n",
       "  </thead>\n",
       "  <tbody>\n",
       "    <tr>\n",
       "      <th>0</th>\n",
       "      <td>1001</td>\n",
       "      <td>Jacqueline Alvarez</td>\n",
       "      <td>105N Elizabeth St</td>\n",
       "      <td>Manhattan, NY 10013</td>\n",
       "      <td>1958-01-23</td>\n",
       "      <td>315-377-5031</td>\n",
       "      <td>3153775031</td>\n",
       "      <td>America/New_York</td>\n",
       "      <td>40.71817</td>\n",
       "      <td>-73.997468</td>\n",
       "      <td>2582739</td>\n",
       "    </tr>\n",
       "    <tr>\n",
       "      <th>1</th>\n",
       "      <td>1002</td>\n",
       "      <td>Julie Howell</td>\n",
       "      <td>185-1 Linden St</td>\n",
       "      <td>Brooklyn, NY 11221</td>\n",
       "      <td>1956-12-03</td>\n",
       "      <td>680-537-8725</td>\n",
       "      <td>6805378725</td>\n",
       "      <td>America/New_York</td>\n",
       "      <td>40.69426</td>\n",
       "      <td>-73.921670</td>\n",
       "      <td>469355</td>\n",
       "    </tr>\n",
       "    <tr>\n",
       "      <th>2</th>\n",
       "      <td>1003</td>\n",
       "      <td>Christopher Ali</td>\n",
       "      <td>174-28 Baisley Blvd</td>\n",
       "      <td>Jamaica, NY 11434</td>\n",
       "      <td>2001-09-20</td>\n",
       "      <td>315-846-6054</td>\n",
       "      <td>3158466054</td>\n",
       "      <td>America/New_York</td>\n",
       "      <td>40.68902</td>\n",
       "      <td>-73.773470</td>\n",
       "      <td>254</td>\n",
       "    </tr>\n",
       "    <tr>\n",
       "      <th>3</th>\n",
       "      <td>1004</td>\n",
       "      <td>Christopher Rodriguez</td>\n",
       "      <td>102 Mount Hope Pl</td>\n",
       "      <td>Bronx, NY 10453</td>\n",
       "      <td>1959-07-10</td>\n",
       "      <td>516-275-2292</td>\n",
       "      <td>5162752292</td>\n",
       "      <td>America/New_York</td>\n",
       "      <td>40.84939</td>\n",
       "      <td>-73.909160</td>\n",
       "      <td>763744839</td>\n",
       "    </tr>\n",
       "    <tr>\n",
       "      <th>4</th>\n",
       "      <td>1005</td>\n",
       "      <td>Jeffrey Wilkinson</td>\n",
       "      <td>17 St Marks Pl</td>\n",
       "      <td>Manhattan, NY 10003</td>\n",
       "      <td>1988-09-08</td>\n",
       "      <td>838-830-6960</td>\n",
       "      <td>8388306960</td>\n",
       "      <td>America/New_York</td>\n",
       "      <td>40.72804</td>\n",
       "      <td>-73.987120</td>\n",
       "      <td>945546766</td>\n",
       "    </tr>\n",
       "  </tbody>\n",
       "</table>\n",
       "</div>"
      ],
      "text/plain": [
       "   customerid                   name              address  \\\n",
       "0        1001     Jacqueline Alvarez    105N Elizabeth St   \n",
       "1        1002           Julie Howell      185-1 Linden St   \n",
       "2        1003        Christopher Ali  174-28 Baisley Blvd   \n",
       "3        1004  Christopher Rodriguez    102 Mount Hope Pl   \n",
       "4        1005      Jeffrey Wilkinson       17 St Marks Pl   \n",
       "\n",
       "          citystatezip   birthdate         phone      phone2  \\\n",
       "0  Manhattan, NY 10013  1958-01-23  315-377-5031  3153775031   \n",
       "1   Brooklyn, NY 11221  1956-12-03  680-537-8725  6805378725   \n",
       "2    Jamaica, NY 11434  2001-09-20  315-846-6054  3158466054   \n",
       "3      Bronx, NY 10453  1959-07-10  516-275-2292  5162752292   \n",
       "4  Manhattan, NY 10003  1988-09-08  838-830-6960  8388306960   \n",
       "\n",
       "           timezone       lat       long     phone3  \n",
       "0  America/New_York  40.71817 -73.997468    2582739  \n",
       "1  America/New_York  40.69426 -73.921670     469355  \n",
       "2  America/New_York  40.68902 -73.773470        254  \n",
       "3  America/New_York  40.84939 -73.909160  763744839  \n",
       "4  America/New_York  40.72804 -73.987120  945546766  "
      ]
     },
     "execution_count": 17,
     "metadata": {},
     "output_type": "execute_result"
    }
   ],
   "source": [
    "def dostuff (lastname_list):\n",
    "    D = {\n",
    "        'abc': 2, 'def': 3, 'ghi': 4,\n",
    "        'jkl': 5, 'mno': 6, 'pqrs': 7,\n",
    "        'tuv': 8, 'wxyz': 9,\n",
    "    }\n",
    "    tel = ''\n",
    "    for c in lastname_list:\n",
    "        for key, val in D.items():\n",
    "            if c.lower() in key:\n",
    "                tel += str(val)\n",
    "                break\n",
    "    return tel\n",
    "df['phone3']= lastname.apply( dostuff )\n",
    "df.head()"
   ]
  },
  {
   "cell_type": "markdown",
   "id": "561fdfe1-c4d4-4c68-b139-5fea32e2cb9f",
   "metadata": {},
   "source": [
    "### Place labels phone/phone2/phone3 together for sanity's sake"
   ]
  },
  {
   "cell_type": "code",
   "execution_count": 18,
   "id": "42cbb813-85bb-462c-8882-eb1ecc7692fd",
   "metadata": {},
   "outputs": [
    {
     "data": {
      "text/html": [
       "<div>\n",
       "<style scoped>\n",
       "    .dataframe tbody tr th:only-of-type {\n",
       "        vertical-align: middle;\n",
       "    }\n",
       "\n",
       "    .dataframe tbody tr th {\n",
       "        vertical-align: top;\n",
       "    }\n",
       "\n",
       "    .dataframe thead th {\n",
       "        text-align: right;\n",
       "    }\n",
       "</style>\n",
       "<table border=\"1\" class=\"dataframe\">\n",
       "  <thead>\n",
       "    <tr style=\"text-align: right;\">\n",
       "      <th></th>\n",
       "      <th>customerid</th>\n",
       "      <th>name</th>\n",
       "      <th>address</th>\n",
       "      <th>citystatezip</th>\n",
       "      <th>birthdate</th>\n",
       "      <th>phone</th>\n",
       "      <th>phone2</th>\n",
       "      <th>phone3</th>\n",
       "      <th>timezone</th>\n",
       "      <th>lat</th>\n",
       "      <th>long</th>\n",
       "    </tr>\n",
       "  </thead>\n",
       "  <tbody>\n",
       "    <tr>\n",
       "      <th>0</th>\n",
       "      <td>1001</td>\n",
       "      <td>Jacqueline Alvarez</td>\n",
       "      <td>105N Elizabeth St</td>\n",
       "      <td>Manhattan, NY 10013</td>\n",
       "      <td>1958-01-23</td>\n",
       "      <td>315-377-5031</td>\n",
       "      <td>3153775031</td>\n",
       "      <td>2582739</td>\n",
       "      <td>America/New_York</td>\n",
       "      <td>40.71817</td>\n",
       "      <td>-73.997468</td>\n",
       "    </tr>\n",
       "    <tr>\n",
       "      <th>1</th>\n",
       "      <td>1002</td>\n",
       "      <td>Julie Howell</td>\n",
       "      <td>185-1 Linden St</td>\n",
       "      <td>Brooklyn, NY 11221</td>\n",
       "      <td>1956-12-03</td>\n",
       "      <td>680-537-8725</td>\n",
       "      <td>6805378725</td>\n",
       "      <td>469355</td>\n",
       "      <td>America/New_York</td>\n",
       "      <td>40.69426</td>\n",
       "      <td>-73.921670</td>\n",
       "    </tr>\n",
       "    <tr>\n",
       "      <th>2</th>\n",
       "      <td>1003</td>\n",
       "      <td>Christopher Ali</td>\n",
       "      <td>174-28 Baisley Blvd</td>\n",
       "      <td>Jamaica, NY 11434</td>\n",
       "      <td>2001-09-20</td>\n",
       "      <td>315-846-6054</td>\n",
       "      <td>3158466054</td>\n",
       "      <td>254</td>\n",
       "      <td>America/New_York</td>\n",
       "      <td>40.68902</td>\n",
       "      <td>-73.773470</td>\n",
       "    </tr>\n",
       "    <tr>\n",
       "      <th>3</th>\n",
       "      <td>1004</td>\n",
       "      <td>Christopher Rodriguez</td>\n",
       "      <td>102 Mount Hope Pl</td>\n",
       "      <td>Bronx, NY 10453</td>\n",
       "      <td>1959-07-10</td>\n",
       "      <td>516-275-2292</td>\n",
       "      <td>5162752292</td>\n",
       "      <td>763744839</td>\n",
       "      <td>America/New_York</td>\n",
       "      <td>40.84939</td>\n",
       "      <td>-73.909160</td>\n",
       "    </tr>\n",
       "    <tr>\n",
       "      <th>4</th>\n",
       "      <td>1005</td>\n",
       "      <td>Jeffrey Wilkinson</td>\n",
       "      <td>17 St Marks Pl</td>\n",
       "      <td>Manhattan, NY 10003</td>\n",
       "      <td>1988-09-08</td>\n",
       "      <td>838-830-6960</td>\n",
       "      <td>8388306960</td>\n",
       "      <td>945546766</td>\n",
       "      <td>America/New_York</td>\n",
       "      <td>40.72804</td>\n",
       "      <td>-73.987120</td>\n",
       "    </tr>\n",
       "  </tbody>\n",
       "</table>\n",
       "</div>"
      ],
      "text/plain": [
       "   customerid                   name              address  \\\n",
       "0        1001     Jacqueline Alvarez    105N Elizabeth St   \n",
       "1        1002           Julie Howell      185-1 Linden St   \n",
       "2        1003        Christopher Ali  174-28 Baisley Blvd   \n",
       "3        1004  Christopher Rodriguez    102 Mount Hope Pl   \n",
       "4        1005      Jeffrey Wilkinson       17 St Marks Pl   \n",
       "\n",
       "          citystatezip   birthdate         phone      phone2     phone3  \\\n",
       "0  Manhattan, NY 10013  1958-01-23  315-377-5031  3153775031    2582739   \n",
       "1   Brooklyn, NY 11221  1956-12-03  680-537-8725  6805378725     469355   \n",
       "2    Jamaica, NY 11434  2001-09-20  315-846-6054  3158466054        254   \n",
       "3      Bronx, NY 10453  1959-07-10  516-275-2292  5162752292  763744839   \n",
       "4  Manhattan, NY 10003  1988-09-08  838-830-6960  8388306960  945546766   \n",
       "\n",
       "           timezone       lat       long  \n",
       "0  America/New_York  40.71817 -73.997468  \n",
       "1  America/New_York  40.69426 -73.921670  \n",
       "2  America/New_York  40.68902 -73.773470  \n",
       "3  America/New_York  40.84939 -73.909160  \n",
       "4  America/New_York  40.72804 -73.987120  "
      ]
     },
     "execution_count": 18,
     "metadata": {},
     "output_type": "execute_result"
    }
   ],
   "source": [
    "L = df.columns.get_loc('phone2')\n",
    "R = df.columns.get_loc('phone3')\n",
    "Cols = df.columns.to_list()\n",
    "Cols = \\\n",
    "Cols[:L + 1] + Cols[R: R + 1] + Cols[L + 1:R]\n",
    "df = df[Cols]\n",
    "df.head()"
   ]
  },
  {
   "cell_type": "markdown",
   "id": "3a742280-3801-4b0d-aff5-f322267d4a22",
   "metadata": {},
   "source": [
    "# Finally, compare"
   ]
  },
  {
   "cell_type": "code",
   "execution_count": 19,
   "id": "9ae37237-5fcf-48bc-9b82-47a42cab8b76",
   "metadata": {},
   "outputs": [
    {
     "data": {
      "text/html": [
       "<div>\n",
       "<style scoped>\n",
       "    .dataframe tbody tr th:only-of-type {\n",
       "        vertical-align: middle;\n",
       "    }\n",
       "\n",
       "    .dataframe tbody tr th {\n",
       "        vertical-align: top;\n",
       "    }\n",
       "\n",
       "    .dataframe thead th {\n",
       "        text-align: right;\n",
       "    }\n",
       "</style>\n",
       "<table border=\"1\" class=\"dataframe\">\n",
       "  <thead>\n",
       "    <tr style=\"text-align: right;\">\n",
       "      <th></th>\n",
       "      <th>customerid</th>\n",
       "      <th>name</th>\n",
       "      <th>address</th>\n",
       "      <th>citystatezip</th>\n",
       "      <th>birthdate</th>\n",
       "      <th>phone</th>\n",
       "      <th>phone2</th>\n",
       "      <th>phone3</th>\n",
       "      <th>timezone</th>\n",
       "      <th>lat</th>\n",
       "      <th>long</th>\n",
       "    </tr>\n",
       "  </thead>\n",
       "  <tbody>\n",
       "    <tr>\n",
       "      <th>207</th>\n",
       "      <td>1208</td>\n",
       "      <td>Sam Tannenbaum</td>\n",
       "      <td>221 Banker St</td>\n",
       "      <td>Brooklyn, NY 11222</td>\n",
       "      <td>1994-09-13</td>\n",
       "      <td>826-636-2286</td>\n",
       "      <td>8266362286</td>\n",
       "      <td>8266362286</td>\n",
       "      <td>America/New_York</td>\n",
       "      <td>40.7257</td>\n",
       "      <td>-73.9555</td>\n",
       "    </tr>\n",
       "  </tbody>\n",
       "</table>\n",
       "</div>"
      ],
      "text/plain": [
       "     customerid            name        address        citystatezip  \\\n",
       "207        1208  Sam Tannenbaum  221 Banker St  Brooklyn, NY 11222   \n",
       "\n",
       "      birthdate         phone      phone2      phone3          timezone  \\\n",
       "207  1994-09-13  826-636-2286  8266362286  8266362286  America/New_York   \n",
       "\n",
       "         lat     long  \n",
       "207  40.7257 -73.9555  "
      ]
     },
     "execution_count": 19,
     "metadata": {},
     "output_type": "execute_result"
    }
   ],
   "source": [
    "df[ df['phone2'] == df['phone3'] ]"
   ]
  }
 ],
 "metadata": {
  "kernelspec": {
   "display_name": "Python 3 (ipykernel)",
   "language": "python",
   "name": "python3"
  },
  "language_info": {
   "codemirror_mode": {
    "name": "ipython",
    "version": 3
   },
   "file_extension": ".py",
   "mimetype": "text/x-python",
   "name": "python",
   "nbconvert_exporter": "python",
   "pygments_lexer": "ipython3",
   "version": "3.12.1"
  }
 },
 "nbformat": 4,
 "nbformat_minor": 5
}
