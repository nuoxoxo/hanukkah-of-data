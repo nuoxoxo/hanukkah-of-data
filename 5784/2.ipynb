{
 "cells": [
  {
   "cell_type": "markdown",
   "id": "6ab9afef-6fc7-4dab-8e1c-fb501c2cc848",
   "metadata": {},
   "source": [
    "# 2. The Contractor\n",
    "\n",
    "Target\n",
    "- the phone number of a contractor called JP\n",
    "- The claim ticket said ‘2017 JP’\n",
    "- they stopped outsourcing a few years ago\n",
    "\n",
    "---\n",
    "\n",
    "- ## Setup: all the CSV filenames w/o extensions"
   ]
  },
  {
   "cell_type": "code",
   "execution_count": 1,
   "id": "2a4598e6-ba3d-48fa-a26b-5c53bc7bf4cb",
   "metadata": {},
   "outputs": [
    {
     "data": {
      "text/plain": [
       "['noahs-orders', 'noahs-products', 'noahs-orders_items', 'noahs-customers']"
      ]
     },
     "execution_count": 1,
     "metadata": {},
     "output_type": "execute_result"
    }
   ],
   "source": [
    "import pandas as pd\n",
    "import os\n",
    "filenames = [_.split('.')[0] for _ in os.listdir('./') if '.csv' in _]\n",
    "filenames"
   ]
  },
  {
   "cell_type": "markdown",
   "id": "43ea93a2-5a53-45bb-bc6e-6a017aa34038",
   "metadata": {},
   "source": [
    "- ## Setup: Should be 4 as there are 4 files in total"
   ]
  },
  {
   "cell_type": "code",
   "execution_count": 2,
   "id": "10118b9d-86dd-4ac5-8a64-501d24be448b",
   "metadata": {},
   "outputs": [
    {
     "data": {
      "text/plain": [
       "4"
      ]
     },
     "execution_count": 2,
     "metadata": {},
     "output_type": "execute_result"
    }
   ],
   "source": [
    "all_csvs = [pd.read_csv(filename + '.csv') for filename in filenames]\n",
    "len( all_csvs )"
   ]
  },
  {
   "cell_type": "markdown",
   "id": "0481cc35-e768-49ef-8494-87f9c34e4597",
   "metadata": {},
   "source": [
    "- ## Final setup: we need all 4 DataFrames"
   ]
  },
  {
   "cell_type": "code",
   "execution_count": 3,
   "id": "9cae65ae-b7fb-473f-b9b4-91d958d68562",
   "metadata": {},
   "outputs": [
    {
     "data": {
      "text/plain": [
       "[213232, 1278, 426541, 8260]"
      ]
     },
     "execution_count": 3,
     "metadata": {},
     "output_type": "execute_result"
    }
   ],
   "source": [
    "NO, NP, NOIT, NC = all_csvs\n",
    "[len(_) for _ in [NO, NP, NOIT, NC]]"
   ]
  },
  {
   "cell_type": "markdown",
   "id": "14637762-5934-42f0-b7d2-c7103c122887",
   "metadata": {},
   "source": [
    "- ## Get all contractors whose initials == JP"
   ]
  },
  {
   "cell_type": "code",
   "execution_count": 4,
   "id": "78ec9d41-5439-4e4d-a8f5-1ba9da1740f8",
   "metadata": {},
   "outputs": [
    {
     "data": {
      "text/html": [
       "<div>\n",
       "<style scoped>\n",
       "    .dataframe tbody tr th:only-of-type {\n",
       "        vertical-align: middle;\n",
       "    }\n",
       "\n",
       "    .dataframe tbody tr th {\n",
       "        vertical-align: top;\n",
       "    }\n",
       "\n",
       "    .dataframe thead th {\n",
       "        text-align: right;\n",
       "    }\n",
       "</style>\n",
       "<table border=\"1\" class=\"dataframe\">\n",
       "  <thead>\n",
       "    <tr style=\"text-align: right;\">\n",
       "      <th></th>\n",
       "      <th>customerid</th>\n",
       "      <th>name</th>\n",
       "      <th>address</th>\n",
       "      <th>citystatezip</th>\n",
       "      <th>birthdate</th>\n",
       "      <th>phone</th>\n",
       "      <th>timezone</th>\n",
       "      <th>lat</th>\n",
       "      <th>long</th>\n",
       "    </tr>\n",
       "  </thead>\n",
       "  <tbody>\n",
       "    <tr>\n",
       "      <th>165</th>\n",
       "      <td>1166</td>\n",
       "      <td>John Phillips</td>\n",
       "      <td>806A E 230th St</td>\n",
       "      <td>Bronx, NY 10466</td>\n",
       "      <td>1968-04-26</td>\n",
       "      <td>716-900-2422</td>\n",
       "      <td>America/New_York</td>\n",
       "      <td>40.88879</td>\n",
       "      <td>-73.85127</td>\n",
       "    </tr>\n",
       "    <tr>\n",
       "      <th>194</th>\n",
       "      <td>1195</td>\n",
       "      <td>Julie Page</td>\n",
       "      <td>462 Rear E New York Ave</td>\n",
       "      <td>Brooklyn, NY 11225</td>\n",
       "      <td>1990-01-25</td>\n",
       "      <td>332-864-1901</td>\n",
       "      <td>America/New_York</td>\n",
       "      <td>40.66201</td>\n",
       "      <td>-73.94547</td>\n",
       "    </tr>\n",
       "    <tr>\n",
       "      <th>263</th>\n",
       "      <td>1264</td>\n",
       "      <td>Justin Perez</td>\n",
       "      <td>402-1 Willow Rd E</td>\n",
       "      <td>Staten Island, NY 10314</td>\n",
       "      <td>1988-08-04</td>\n",
       "      <td>585-300-8492</td>\n",
       "      <td>America/New_York</td>\n",
       "      <td>40.61668</td>\n",
       "      <td>-74.15085</td>\n",
       "    </tr>\n",
       "    <tr>\n",
       "      <th>297</th>\n",
       "      <td>1298</td>\n",
       "      <td>Jacqueline Patel</td>\n",
       "      <td>3657 NE 13th Rd</td>\n",
       "      <td>Houston, TX 77004</td>\n",
       "      <td>1969-09-07</td>\n",
       "      <td>430-877-4645</td>\n",
       "      <td>America/Chicago</td>\n",
       "      <td>29.78600</td>\n",
       "      <td>-95.38850</td>\n",
       "    </tr>\n",
       "    <tr>\n",
       "      <th>311</th>\n",
       "      <td>1312</td>\n",
       "      <td>Judy Page</td>\n",
       "      <td>974 E 149th St</td>\n",
       "      <td>Bronx, NY 10455</td>\n",
       "      <td>1973-05-16</td>\n",
       "      <td>516-779-4396</td>\n",
       "      <td>America/New_York</td>\n",
       "      <td>40.81625</td>\n",
       "      <td>-73.90358</td>\n",
       "    </tr>\n",
       "  </tbody>\n",
       "</table>\n",
       "</div>"
      ],
      "text/plain": [
       "     customerid              name                  address  \\\n",
       "165        1166     John Phillips          806A E 230th St   \n",
       "194        1195        Julie Page  462 Rear E New York Ave   \n",
       "263        1264      Justin Perez        402-1 Willow Rd E   \n",
       "297        1298  Jacqueline Patel          3657 NE 13th Rd   \n",
       "311        1312         Judy Page           974 E 149th St   \n",
       "\n",
       "                citystatezip   birthdate         phone          timezone  \\\n",
       "165          Bronx, NY 10466  1968-04-26  716-900-2422  America/New_York   \n",
       "194       Brooklyn, NY 11225  1990-01-25  332-864-1901  America/New_York   \n",
       "263  Staten Island, NY 10314  1988-08-04  585-300-8492  America/New_York   \n",
       "297        Houston, TX 77004  1969-09-07  430-877-4645   America/Chicago   \n",
       "311          Bronx, NY 10455  1973-05-16  516-779-4396  America/New_York   \n",
       "\n",
       "          lat      long  \n",
       "165  40.88879 -73.85127  \n",
       "194  40.66201 -73.94547  \n",
       "263  40.61668 -74.15085  \n",
       "297  29.78600 -95.38850  \n",
       "311  40.81625 -73.90358  "
      ]
     },
     "execution_count": 4,
     "metadata": {},
     "output_type": "execute_result"
    }
   ],
   "source": [
    "def abbrev (name):\n",
    "    return ''.join(_[0] for _ in name.split()).upper() == 'JP'\n",
    "\n",
    "JP = NC[NC['name'].apply(lambda x: abbrev(x))]\n",
    "JP.head()"
   ]
  },
  {
   "cell_type": "markdown",
   "id": "d4ea492e-7664-47ee-85c4-6f7575ea4d9c",
   "metadata": {},
   "source": [
    "- ## List of orders made back in 2O17"
   ]
  },
  {
   "cell_type": "code",
   "execution_count": 5,
   "id": "096d9d6d-aa26-4114-84be-603afc2609ec",
   "metadata": {},
   "outputs": [
    {
     "data": {
      "text/html": [
       "<div>\n",
       "<style scoped>\n",
       "    .dataframe tbody tr th:only-of-type {\n",
       "        vertical-align: middle;\n",
       "    }\n",
       "\n",
       "    .dataframe tbody tr th {\n",
       "        vertical-align: top;\n",
       "    }\n",
       "\n",
       "    .dataframe thead th {\n",
       "        text-align: right;\n",
       "    }\n",
       "</style>\n",
       "<table border=\"1\" class=\"dataframe\">\n",
       "  <thead>\n",
       "    <tr style=\"text-align: right;\">\n",
       "      <th></th>\n",
       "      <th>orderid</th>\n",
       "      <th>customerid</th>\n",
       "      <th>ordered</th>\n",
       "      <th>shipped</th>\n",
       "      <th>items</th>\n",
       "      <th>total</th>\n",
       "    </tr>\n",
       "  </thead>\n",
       "  <tbody>\n",
       "    <tr>\n",
       "      <th>0</th>\n",
       "      <td>1001</td>\n",
       "      <td>6878</td>\n",
       "      <td>2017-01-31 02:56:45</td>\n",
       "      <td>2017-01-31 09:00:00</td>\n",
       "      <td>NaN</td>\n",
       "      <td>0.99</td>\n",
       "    </tr>\n",
       "    <tr>\n",
       "      <th>1</th>\n",
       "      <td>1002</td>\n",
       "      <td>6375</td>\n",
       "      <td>2017-01-31 04:13:35</td>\n",
       "      <td>2017-01-31 12:15:00</td>\n",
       "      <td>NaN</td>\n",
       "      <td>13.59</td>\n",
       "    </tr>\n",
       "    <tr>\n",
       "      <th>2</th>\n",
       "      <td>1003</td>\n",
       "      <td>8045</td>\n",
       "      <td>2017-01-31 04:45:12</td>\n",
       "      <td>2017-01-31 10:45:00</td>\n",
       "      <td>NaN</td>\n",
       "      <td>1.23</td>\n",
       "    </tr>\n",
       "    <tr>\n",
       "      <th>3</th>\n",
       "      <td>1004</td>\n",
       "      <td>5385</td>\n",
       "      <td>2017-01-31 05:49:19</td>\n",
       "      <td>2017-01-31 09:00:00</td>\n",
       "      <td>NaN</td>\n",
       "      <td>2.10</td>\n",
       "    </tr>\n",
       "    <tr>\n",
       "      <th>4</th>\n",
       "      <td>1005</td>\n",
       "      <td>9235</td>\n",
       "      <td>2017-01-31 06:28:11</td>\n",
       "      <td>2017-01-31 16:00:00</td>\n",
       "      <td>NaN</td>\n",
       "      <td>13.23</td>\n",
       "    </tr>\n",
       "  </tbody>\n",
       "</table>\n",
       "</div>"
      ],
      "text/plain": [
       "   orderid  customerid              ordered              shipped  items  total\n",
       "0     1001        6878  2017-01-31 02:56:45  2017-01-31 09:00:00    NaN   0.99\n",
       "1     1002        6375  2017-01-31 04:13:35  2017-01-31 12:15:00    NaN  13.59\n",
       "2     1003        8045  2017-01-31 04:45:12  2017-01-31 10:45:00    NaN   1.23\n",
       "3     1004        5385  2017-01-31 05:49:19  2017-01-31 09:00:00    NaN   2.10\n",
       "4     1005        9235  2017-01-31 06:28:11  2017-01-31 16:00:00    NaN  13.23"
      ]
     },
     "execution_count": 5,
     "metadata": {},
     "output_type": "execute_result"
    }
   ],
   "source": [
    "orders17 = NO[NO['ordered'].str.startswith('2017')]\n",
    "orders17.head() # most_recent_order"
   ]
  },
  {
   "cell_type": "markdown",
   "id": "6d60017c-051b-45b2-957f-a1a5a2c009c5",
   "metadata": {},
   "source": [
    "- ## List of orders made back in 2O17 where contractor is JP"
   ]
  },
  {
   "cell_type": "code",
   "execution_count": 6,
   "id": "605a40b0-c476-4069-8531-0b09e2f91eb2",
   "metadata": {},
   "outputs": [
    {
     "data": {
      "text/plain": [
       "(   orderid  customerid              ordered              shipped  items  \\\n",
       " 0     1007        4285  2017-01-31 08:01:48  2017-01-31 19:15:00    NaN   \n",
       " 1     9172        4285  2017-04-22 15:01:45  2017-04-22 15:01:45    NaN   \n",
       " 2     1102        1195  2017-02-01 07:49:16  2017-02-01 10:45:00    NaN   \n",
       " \n",
       "    total           name                  address               citystatezip  \\\n",
       " 0   3.58  Joshua Peters            34-49 85th St  Jackson Heights, NY 11372   \n",
       " 1  57.91  Joshua Peters            34-49 85th St  Jackson Heights, NY 11372   \n",
       " 2  57.44     Julie Page  462 Rear E New York Ave         Brooklyn, NY 11225   \n",
       " \n",
       "     birthdate         phone          timezone       lat      long  \n",
       " 0  1964-10-17  914-322-7233  America/New_York  40.75464 -73.88258  \n",
       " 1  1964-10-17  914-322-7233  America/New_York  40.75464 -73.88258  \n",
       " 2  1990-01-25  332-864-1901  America/New_York  40.66201 -73.94547  ,\n",
       " name\n",
       " Judy Potter          29\n",
       " Justin Perez         28\n",
       " Jonathan Phillips    27\n",
       " James Perez          26\n",
       " James Petersen       23\n",
       " Judith Phillips      22\n",
       " Jacob Petersen       15\n",
       " Julie Page           11\n",
       " Jacob Padilla         9\n",
       " Joshua Peterson       7\n",
       " Name: count, dtype: int64)"
      ]
     },
     "execution_count": 6,
     "metadata": {},
     "output_type": "execute_result"
    }
   ],
   "source": [
    "JP17 = pd.merge(orders17, JP, on='customerid')\n",
    "JP17[:3], JP17['name'].value_counts()[:10]"
   ]
  },
  {
   "cell_type": "markdown",
   "id": "fc95b6de-b5d2-463d-93d7-c6064469433e",
   "metadata": {},
   "source": [
    "- ## List of orders made back in 2017 reverse-sorted"
   ]
  },
  {
   "cell_type": "code",
   "execution_count": 7,
   "id": "b2476cef-1e4c-4d8c-a53d-202ce357b225",
   "metadata": {},
   "outputs": [
    {
     "data": {
      "text/plain": [
       "customerid\n",
       "1188    2017-04-06 16:28:55\n",
       "1194    2017-11-23 10:06:36\n",
       "1195    2017-12-25 10:32:50\n",
       "1198    2017-03-10 13:10:45\n",
       "1202    2017-11-17 17:24:20\n",
       "Name: ordered, dtype: object"
      ]
     },
     "execution_count": 7,
     "metadata": {},
     "output_type": "execute_result"
    }
   ],
   "source": [
    "orders17last = orders17.sort_values('ordered', ascending=False)\\\n",
    "    .groupby('customerid')\\\n",
    "    .first()\\\n",
    "    .ordered\n",
    "\n",
    "orders17last[83:88]"
   ]
  },
  {
   "cell_type": "code",
   "execution_count": 8,
   "id": "60d01e2d-3f60-40d3-abd0-f4b60a17b43a",
   "metadata": {},
   "outputs": [
    {
     "data": {
      "text/html": [
       "<div>\n",
       "<style scoped>\n",
       "    .dataframe tbody tr th:only-of-type {\n",
       "        vertical-align: middle;\n",
       "    }\n",
       "\n",
       "    .dataframe tbody tr th {\n",
       "        vertical-align: top;\n",
       "    }\n",
       "\n",
       "    .dataframe thead th {\n",
       "        text-align: right;\n",
       "    }\n",
       "</style>\n",
       "<table border=\"1\" class=\"dataframe\">\n",
       "  <thead>\n",
       "    <tr style=\"text-align: right;\">\n",
       "      <th></th>\n",
       "      <th>customerid</th>\n",
       "      <th>ordered_x</th>\n",
       "      <th>orderid</th>\n",
       "      <th>ordered_y</th>\n",
       "      <th>shipped</th>\n",
       "      <th>items</th>\n",
       "      <th>total</th>\n",
       "      <th>name</th>\n",
       "      <th>address</th>\n",
       "      <th>citystatezip</th>\n",
       "      <th>birthdate</th>\n",
       "      <th>phone</th>\n",
       "      <th>timezone</th>\n",
       "      <th>lat</th>\n",
       "      <th>long</th>\n",
       "    </tr>\n",
       "  </thead>\n",
       "  <tbody>\n",
       "    <tr>\n",
       "      <th>0</th>\n",
       "      <td>1195</td>\n",
       "      <td>2017-12-25 10:32:50</td>\n",
       "      <td>1102</td>\n",
       "      <td>2017-02-01 07:49:16</td>\n",
       "      <td>2017-02-01 10:45:00</td>\n",
       "      <td>NaN</td>\n",
       "      <td>57.44</td>\n",
       "      <td>Julie Page</td>\n",
       "      <td>462 Rear E New York Ave</td>\n",
       "      <td>Brooklyn, NY 11225</td>\n",
       "      <td>1990-01-25</td>\n",
       "      <td>332-864-1901</td>\n",
       "      <td>America/New_York</td>\n",
       "      <td>40.66201</td>\n",
       "      <td>-73.94547</td>\n",
       "    </tr>\n",
       "    <tr>\n",
       "      <th>1</th>\n",
       "      <td>1195</td>\n",
       "      <td>2017-12-25 10:32:50</td>\n",
       "      <td>2371</td>\n",
       "      <td>2017-02-13 10:54:48</td>\n",
       "      <td>2017-02-13 14:45:00</td>\n",
       "      <td>NaN</td>\n",
       "      <td>1.18</td>\n",
       "      <td>Julie Page</td>\n",
       "      <td>462 Rear E New York Ave</td>\n",
       "      <td>Brooklyn, NY 11225</td>\n",
       "      <td>1990-01-25</td>\n",
       "      <td>332-864-1901</td>\n",
       "      <td>America/New_York</td>\n",
       "      <td>40.66201</td>\n",
       "      <td>-73.94547</td>\n",
       "    </tr>\n",
       "    <tr>\n",
       "      <th>2</th>\n",
       "      <td>1195</td>\n",
       "      <td>2017-12-25 10:32:50</td>\n",
       "      <td>3344</td>\n",
       "      <td>2017-02-22 10:46:16</td>\n",
       "      <td>2017-02-22 15:00:00</td>\n",
       "      <td>NaN</td>\n",
       "      <td>4.12</td>\n",
       "      <td>Julie Page</td>\n",
       "      <td>462 Rear E New York Ave</td>\n",
       "      <td>Brooklyn, NY 11225</td>\n",
       "      <td>1990-01-25</td>\n",
       "      <td>332-864-1901</td>\n",
       "      <td>America/New_York</td>\n",
       "      <td>40.66201</td>\n",
       "      <td>-73.94547</td>\n",
       "    </tr>\n",
       "  </tbody>\n",
       "</table>\n",
       "</div>"
      ],
      "text/plain": [
       "   customerid            ordered_x  orderid            ordered_y  \\\n",
       "0        1195  2017-12-25 10:32:50     1102  2017-02-01 07:49:16   \n",
       "1        1195  2017-12-25 10:32:50     2371  2017-02-13 10:54:48   \n",
       "2        1195  2017-12-25 10:32:50     3344  2017-02-22 10:46:16   \n",
       "\n",
       "               shipped  items  total        name                  address  \\\n",
       "0  2017-02-01 10:45:00    NaN  57.44  Julie Page  462 Rear E New York Ave   \n",
       "1  2017-02-13 14:45:00    NaN   1.18  Julie Page  462 Rear E New York Ave   \n",
       "2  2017-02-22 15:00:00    NaN   4.12  Julie Page  462 Rear E New York Ave   \n",
       "\n",
       "         citystatezip   birthdate         phone          timezone       lat  \\\n",
       "0  Brooklyn, NY 11225  1990-01-25  332-864-1901  America/New_York  40.66201   \n",
       "1  Brooklyn, NY 11225  1990-01-25  332-864-1901  America/New_York  40.66201   \n",
       "2  Brooklyn, NY 11225  1990-01-25  332-864-1901  America/New_York  40.66201   \n",
       "\n",
       "       long  \n",
       "0 -73.94547  \n",
       "1 -73.94547  \n",
       "2 -73.94547  "
      ]
     },
     "execution_count": 8,
     "metadata": {},
     "output_type": "execute_result"
    }
   ],
   "source": [
    "JP17last = pd.merge(orders17last, JP17, on=\"customerid\")#.sort_values('ordered_x')\n",
    "JP17last[:3]"
   ]
  },
  {
   "cell_type": "code",
   "execution_count": 9,
   "id": "2811eae7-ff6b-40d3-a87d-6516a89587a1",
   "metadata": {},
   "outputs": [
    {
     "data": {
      "text/html": [
       "<div>\n",
       "<style scoped>\n",
       "    .dataframe tbody tr th:only-of-type {\n",
       "        vertical-align: middle;\n",
       "    }\n",
       "\n",
       "    .dataframe tbody tr th {\n",
       "        vertical-align: top;\n",
       "    }\n",
       "\n",
       "    .dataframe thead th {\n",
       "        text-align: right;\n",
       "    }\n",
       "</style>\n",
       "<table border=\"1\" class=\"dataframe\">\n",
       "  <thead>\n",
       "    <tr style=\"text-align: right;\">\n",
       "      <th></th>\n",
       "      <th>sku</th>\n",
       "      <th>desc</th>\n",
       "      <th>wholesale_cost</th>\n",
       "      <th>dims_cm</th>\n",
       "    </tr>\n",
       "  </thead>\n",
       "  <tbody>\n",
       "    <tr>\n",
       "      <th>1112</th>\n",
       "      <td>DLI8820</td>\n",
       "      <td>Coffee, Drip</td>\n",
       "      <td>1.44</td>\n",
       "      <td>9.6|7.8|0.7</td>\n",
       "    </tr>\n",
       "  </tbody>\n",
       "</table>\n",
       "</div>"
      ],
      "text/plain": [
       "          sku          desc  wholesale_cost      dims_cm\n",
       "1112  DLI8820  Coffee, Drip            1.44  9.6|7.8|0.7"
      ]
     },
     "execution_count": 9,
     "metadata": {},
     "output_type": "execute_result"
    }
   ],
   "source": [
    "Coffee = NP[NP['desc'].str.contains('coffee', case=False)]\n",
    "Coffee"
   ]
  },
  {
   "cell_type": "code",
   "execution_count": 10,
   "id": "55798354-31f1-4523-a49d-76ee50fd3d43",
   "metadata": {},
   "outputs": [
    {
     "data": {
      "text/html": [
       "<div>\n",
       "<style scoped>\n",
       "    .dataframe tbody tr th:only-of-type {\n",
       "        vertical-align: middle;\n",
       "    }\n",
       "\n",
       "    .dataframe tbody tr th {\n",
       "        vertical-align: top;\n",
       "    }\n",
       "\n",
       "    .dataframe thead th {\n",
       "        text-align: right;\n",
       "    }\n",
       "</style>\n",
       "<table border=\"1\" class=\"dataframe\">\n",
       "  <thead>\n",
       "    <tr style=\"text-align: right;\">\n",
       "      <th></th>\n",
       "      <th>sku</th>\n",
       "      <th>desc</th>\n",
       "      <th>wholesale_cost</th>\n",
       "      <th>dims_cm</th>\n",
       "      <th>orderid</th>\n",
       "      <th>qty</th>\n",
       "      <th>unit_price</th>\n",
       "    </tr>\n",
       "  </thead>\n",
       "  <tbody>\n",
       "    <tr>\n",
       "      <th>0</th>\n",
       "      <td>DLI8820</td>\n",
       "      <td>Coffee, Drip</td>\n",
       "      <td>1.44</td>\n",
       "      <td>9.6|7.8|0.7</td>\n",
       "      <td>1289</td>\n",
       "      <td>1</td>\n",
       "      <td>1.50</td>\n",
       "    </tr>\n",
       "    <tr>\n",
       "      <th>1</th>\n",
       "      <td>DLI8820</td>\n",
       "      <td>Coffee, Drip</td>\n",
       "      <td>1.44</td>\n",
       "      <td>9.6|7.8|0.7</td>\n",
       "      <td>2012</td>\n",
       "      <td>1</td>\n",
       "      <td>2.23</td>\n",
       "    </tr>\n",
       "    <tr>\n",
       "      <th>2</th>\n",
       "      <td>DLI8820</td>\n",
       "      <td>Coffee, Drip</td>\n",
       "      <td>1.44</td>\n",
       "      <td>9.6|7.8|0.7</td>\n",
       "      <td>2503</td>\n",
       "      <td>1</td>\n",
       "      <td>1.98</td>\n",
       "    </tr>\n",
       "    <tr>\n",
       "      <th>3</th>\n",
       "      <td>DLI8820</td>\n",
       "      <td>Coffee, Drip</td>\n",
       "      <td>1.44</td>\n",
       "      <td>9.6|7.8|0.7</td>\n",
       "      <td>2534</td>\n",
       "      <td>1</td>\n",
       "      <td>1.61</td>\n",
       "    </tr>\n",
       "    <tr>\n",
       "      <th>4</th>\n",
       "      <td>DLI8820</td>\n",
       "      <td>Coffee, Drip</td>\n",
       "      <td>1.44</td>\n",
       "      <td>9.6|7.8|0.7</td>\n",
       "      <td>4976</td>\n",
       "      <td>1</td>\n",
       "      <td>1.75</td>\n",
       "    </tr>\n",
       "  </tbody>\n",
       "</table>\n",
       "</div>"
      ],
      "text/plain": [
       "       sku          desc  wholesale_cost      dims_cm  orderid  qty  \\\n",
       "0  DLI8820  Coffee, Drip            1.44  9.6|7.8|0.7     1289    1   \n",
       "1  DLI8820  Coffee, Drip            1.44  9.6|7.8|0.7     2012    1   \n",
       "2  DLI8820  Coffee, Drip            1.44  9.6|7.8|0.7     2503    1   \n",
       "3  DLI8820  Coffee, Drip            1.44  9.6|7.8|0.7     2534    1   \n",
       "4  DLI8820  Coffee, Drip            1.44  9.6|7.8|0.7     4976    1   \n",
       "\n",
       "   unit_price  \n",
       "0        1.50  \n",
       "1        2.23  \n",
       "2        1.98  \n",
       "3        1.61  \n",
       "4        1.75  "
      ]
     },
     "execution_count": 10,
     "metadata": {},
     "output_type": "execute_result"
    }
   ],
   "source": [
    "Coffee_order = pd.merge(Coffee, NOIT, on='sku')\n",
    "Coffee_order.head()"
   ]
  },
  {
   "cell_type": "code",
   "execution_count": 11,
   "id": "1a22db39-c80f-467b-94f6-c8930fdc495b",
   "metadata": {},
   "outputs": [
    {
     "data": {
      "text/html": [
       "<div>\n",
       "<style scoped>\n",
       "    .dataframe tbody tr th:only-of-type {\n",
       "        vertical-align: middle;\n",
       "    }\n",
       "\n",
       "    .dataframe tbody tr th {\n",
       "        vertical-align: top;\n",
       "    }\n",
       "\n",
       "    .dataframe thead th {\n",
       "        text-align: right;\n",
       "    }\n",
       "</style>\n",
       "<table border=\"1\" class=\"dataframe\">\n",
       "  <thead>\n",
       "    <tr style=\"text-align: right;\">\n",
       "      <th></th>\n",
       "      <th>sku</th>\n",
       "      <th>desc</th>\n",
       "      <th>wholesale_cost</th>\n",
       "      <th>dims_cm</th>\n",
       "      <th>orderid</th>\n",
       "      <th>qty</th>\n",
       "      <th>unit_price</th>\n",
       "      <th>customerid</th>\n",
       "      <th>ordered_x</th>\n",
       "      <th>ordered_y</th>\n",
       "      <th>...</th>\n",
       "      <th>items</th>\n",
       "      <th>total</th>\n",
       "      <th>name</th>\n",
       "      <th>address</th>\n",
       "      <th>citystatezip</th>\n",
       "      <th>birthdate</th>\n",
       "      <th>phone</th>\n",
       "      <th>timezone</th>\n",
       "      <th>lat</th>\n",
       "      <th>long</th>\n",
       "    </tr>\n",
       "  </thead>\n",
       "  <tbody>\n",
       "    <tr>\n",
       "      <th>0</th>\n",
       "      <td>DLI8820</td>\n",
       "      <td>Coffee, Drip</td>\n",
       "      <td>1.44</td>\n",
       "      <td>9.6|7.8|0.7</td>\n",
       "      <td>7459</td>\n",
       "      <td>1</td>\n",
       "      <td>1.87</td>\n",
       "      <td>1475</td>\n",
       "      <td>2017-04-17 12:12:21</td>\n",
       "      <td>2017-04-05 11:42:15</td>\n",
       "      <td>...</td>\n",
       "      <td>NaN</td>\n",
       "      <td>4.96</td>\n",
       "      <td>Joshua Peterson</td>\n",
       "      <td>100-75 148th St</td>\n",
       "      <td>Jamaica, NY 11435</td>\n",
       "      <td>1947-02-05</td>\n",
       "      <td>332-274-4185</td>\n",
       "      <td>America/New_York</td>\n",
       "      <td>40.70895</td>\n",
       "      <td>-73.80856</td>\n",
       "    </tr>\n",
       "  </tbody>\n",
       "</table>\n",
       "<p>1 rows × 21 columns</p>\n",
       "</div>"
      ],
      "text/plain": [
       "       sku          desc  wholesale_cost      dims_cm  orderid  qty  \\\n",
       "0  DLI8820  Coffee, Drip            1.44  9.6|7.8|0.7     7459    1   \n",
       "\n",
       "   unit_price  customerid            ordered_x            ordered_y  ...  \\\n",
       "0        1.87        1475  2017-04-17 12:12:21  2017-04-05 11:42:15  ...   \n",
       "\n",
       "  items  total             name          address       citystatezip  \\\n",
       "0   NaN   4.96  Joshua Peterson  100-75 148th St  Jamaica, NY 11435   \n",
       "\n",
       "    birthdate         phone          timezone       lat      long  \n",
       "0  1947-02-05  332-274-4185  America/New_York  40.70895 -73.80856  \n",
       "\n",
       "[1 rows x 21 columns]"
      ]
     },
     "execution_count": 11,
     "metadata": {},
     "output_type": "execute_result"
    }
   ],
   "source": [
    "Coffee_order_details = pd.merge(Coffee_order, JP17last, on='orderid')\n",
    "Coffee_order_details.head()\n",
    "# Coffee_order.head(), JP17.head()"
   ]
  }
 ],
 "metadata": {
  "kernelspec": {
   "display_name": "Python 3 (ipykernel)",
   "language": "python",
   "name": "python3"
  },
  "language_info": {
   "codemirror_mode": {
    "name": "ipython",
    "version": 3
   },
   "file_extension": ".py",
   "mimetype": "text/x-python",
   "name": "python",
   "nbconvert_exporter": "python",
   "pygments_lexer": "ipython3",
   "version": "3.12.1"
  }
 },
 "nbformat": 4,
 "nbformat_minor": 5
}
