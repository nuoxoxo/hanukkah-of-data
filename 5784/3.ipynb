{
 "cells": [
  {
   "cell_type": "markdown",
   "id": "767d78ed-0b3f-489c-8cf1-c457aacffdaa",
   "metadata": {},
   "source": [
    "# 3. The Neighbor\n",
    "\n",
    "Target\n",
    "- the phone number of a person\n",
    "\n",
    "Clues\n",
    "- he was a Cancer born in the year of the Rabbit\n",
    "- ( cancer: June 22 to about July 22 )\n",
    "- ( rabbit: 1903 ~ year % 4 == 3 )"
   ]
  },
  {
   "cell_type": "code",
   "execution_count": 1,
   "id": "73b292a7-ff0c-4e2d-a967-8f06d255e2fe",
   "metadata": {},
   "outputs": [
    {
     "data": {
      "text/html": [
       "<div>\n",
       "<style scoped>\n",
       "    .dataframe tbody tr th:only-of-type {\n",
       "        vertical-align: middle;\n",
       "    }\n",
       "\n",
       "    .dataframe tbody tr th {\n",
       "        vertical-align: top;\n",
       "    }\n",
       "\n",
       "    .dataframe thead th {\n",
       "        text-align: right;\n",
       "    }\n",
       "</style>\n",
       "<table border=\"1\" class=\"dataframe\">\n",
       "  <thead>\n",
       "    <tr style=\"text-align: right;\">\n",
       "      <th></th>\n",
       "      <th>name</th>\n",
       "      <th>phone</th>\n",
       "      <th>birthdate</th>\n",
       "    </tr>\n",
       "  </thead>\n",
       "  <tbody>\n",
       "    <tr>\n",
       "      <th>0</th>\n",
       "      <td>Jacqueline Alvarez</td>\n",
       "      <td>315-377-5031</td>\n",
       "      <td>1958-01-23</td>\n",
       "    </tr>\n",
       "    <tr>\n",
       "      <th>1</th>\n",
       "      <td>Julie Howell</td>\n",
       "      <td>680-537-8725</td>\n",
       "      <td>1956-12-03</td>\n",
       "    </tr>\n",
       "    <tr>\n",
       "      <th>2</th>\n",
       "      <td>Christopher Ali</td>\n",
       "      <td>315-846-6054</td>\n",
       "      <td>2001-09-20</td>\n",
       "    </tr>\n",
       "    <tr>\n",
       "      <th>3</th>\n",
       "      <td>Christopher Rodriguez</td>\n",
       "      <td>516-275-2292</td>\n",
       "      <td>1959-07-10</td>\n",
       "    </tr>\n",
       "    <tr>\n",
       "      <th>4</th>\n",
       "      <td>Jeffrey Wilkinson</td>\n",
       "      <td>838-830-6960</td>\n",
       "      <td>1988-09-08</td>\n",
       "    </tr>\n",
       "  </tbody>\n",
       "</table>\n",
       "</div>"
      ],
      "text/plain": [
       "                    name         phone   birthdate\n",
       "0     Jacqueline Alvarez  315-377-5031  1958-01-23\n",
       "1           Julie Howell  680-537-8725  1956-12-03\n",
       "2        Christopher Ali  315-846-6054  2001-09-20\n",
       "3  Christopher Rodriguez  516-275-2292  1959-07-10\n",
       "4      Jeffrey Wilkinson  838-830-6960  1988-09-08"
      ]
     },
     "execution_count": 1,
     "metadata": {},
     "output_type": "execute_result"
    }
   ],
   "source": [
    "import pandas as pd\n",
    "NC = pd.read_csv('noahs-customers.csv')\n",
    "NC[['name','phone','birthdate']].head()"
   ]
  },
  {
   "cell_type": "code",
   "execution_count": 2,
   "id": "6cacb6e6-4791-4cf0-b073-111533601aeb",
   "metadata": {},
   "outputs": [
    {
     "data": {
      "text/plain": [
       "(     customerid                   name              address  \\\n",
       " 3          1004  Christopher Rodriguez    102 Mount Hope Pl   \n",
       " 12         1013           Kevin Watson        1060A 39th St   \n",
       " 17         1018           Carmen Smith  1843A E Tremont Ave   \n",
       " 46         1047          Tammy Houston       4148 N Park Pl   \n",
       " 205        1206        Sarah Hernandez         986 10th Way   \n",
       " \n",
       "               citystatezip   birthdate         phone          timezone  \\\n",
       " 3          Bronx, NY 10453  1959-07-10  516-275-2292  America/New_York   \n",
       " 12      Brooklyn, NY 11219  1995-07-04  838-625-4866  America/New_York   \n",
       " 17         Bronx, NY 10460  1955-06-29  315-795-3014  America/New_York   \n",
       " 46     Cleveland, OH 44111  1999-07-04  216-937-0321  America/New_York   \n",
       " 205  San Antonio, TX 78257  1951-06-26  682-287-2999   America/Chicago   \n",
       " \n",
       "           lat      long  \n",
       " 3    40.84939 -73.90916  \n",
       " 12   40.64326 -73.99460  \n",
       " 17   40.84061 -73.88576  \n",
       " 46   41.47640 -81.68050  \n",
       " 205  29.46320 -98.52380  ,\n",
       " 181)"
      ]
     },
     "execution_count": 2,
     "metadata": {},
     "output_type": "execute_result"
    }
   ],
   "source": [
    "def is_cancer_of_rabbit(date):\n",
    "    year, month, day = date.split('-')\n",
    "    if int(year) % 4 == 3 and\\\n",
    "    ((month == '06' and 22<=int(day)<=30) or\\\n",
    "    (month == '07' and 1<=int(day)<=22)):\n",
    "        return True\n",
    "    return False\n",
    "NC = NC[NC['birthdate'].apply(lambda x: is_cancer_of_rabbit(x))]\n",
    "NC.head(),len(NC)"
   ]
  },
  {
   "cell_type": "code",
   "execution_count": 3,
   "id": "22deed76-13c3-48cf-88c5-0a74543f8ca5",
   "metadata": {},
   "outputs": [
    {
     "data": {
      "text/html": [
       "<div>\n",
       "<style scoped>\n",
       "    .dataframe tbody tr th:only-of-type {\n",
       "        vertical-align: middle;\n",
       "    }\n",
       "\n",
       "    .dataframe tbody tr th {\n",
       "        vertical-align: top;\n",
       "    }\n",
       "\n",
       "    .dataframe thead th {\n",
       "        text-align: right;\n",
       "    }\n",
       "</style>\n",
       "<table border=\"1\" class=\"dataframe\">\n",
       "  <thead>\n",
       "    <tr style=\"text-align: right;\">\n",
       "      <th></th>\n",
       "      <th>customerid</th>\n",
       "      <th>name</th>\n",
       "      <th>address</th>\n",
       "      <th>citystatezip</th>\n",
       "      <th>birthdate</th>\n",
       "      <th>phone</th>\n",
       "      <th>timezone</th>\n",
       "      <th>lat</th>\n",
       "      <th>long</th>\n",
       "    </tr>\n",
       "  </thead>\n",
       "  <tbody>\n",
       "    <tr>\n",
       "      <th>1549</th>\n",
       "      <td>2550</td>\n",
       "      <td>Robert Morton</td>\n",
       "      <td>145-51 107th Ave</td>\n",
       "      <td>Jamaica, NY 11435</td>\n",
       "      <td>1999-07-08</td>\n",
       "      <td>917-288-9635</td>\n",
       "      <td>America/New_York</td>\n",
       "      <td>40.68959</td>\n",
       "      <td>-73.80487</td>\n",
       "    </tr>\n",
       "  </tbody>\n",
       "</table>\n",
       "</div>"
      ],
      "text/plain": [
       "      customerid           name           address       citystatezip  \\\n",
       "1549        2550  Robert Morton  145-51 107th Ave  Jamaica, NY 11435   \n",
       "\n",
       "       birthdate         phone          timezone       lat      long  \n",
       "1549  1999-07-08  917-288-9635  America/New_York  40.68959 -73.80487  "
      ]
     },
     "execution_count": 3,
     "metadata": {},
     "output_type": "execute_result"
    }
   ],
   "source": [
    "def is_jamaica(city):\n",
    "    return city.startswith('Jamaica') and city.split()[-1] == '11435'\n",
    "# NC.citystatezip.head()\n",
    "NC = NC[NC['citystatezip'].apply(lambda x: is_jamaica(x))]\n",
    "NC\n",
    "\n",
    "# should be Robert Morton"
   ]
  }
 ],
 "metadata": {
  "kernelspec": {
   "display_name": "Python 3 (ipykernel)",
   "language": "python",
   "name": "python3"
  },
  "language_info": {
   "codemirror_mode": {
    "name": "ipython",
    "version": 3
   },
   "file_extension": ".py",
   "mimetype": "text/x-python",
   "name": "python",
   "nbconvert_exporter": "python",
   "pygments_lexer": "ipython3",
   "version": "3.12.1"
  }
 },
 "nbformat": 4,
 "nbformat_minor": 5
}
