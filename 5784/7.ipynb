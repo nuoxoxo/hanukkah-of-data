{
 "cells": [
  {
   "cell_type": "markdown",
   "id": "e04cf1a2-949c-43cd-9bba-07635b58a1fc",
   "metadata": {},
   "source": [
    "### From Night 6 : cousin's profile:\n",
    "```py\n",
    "customerid\tname\tphone\tbirthdate\taddress\tcitystatezip\t\n",
    "4167\tSherri Long\t585-838-9161\t1975-04-09\t2092 Seward Ave\tBronx, NY 10473\t-92.03\n",
    "```"
   ]
  },
  {
   "cell_type": "code",
   "execution_count": 1,
   "id": "f72a4d24-bb4b-46fe-a8a0-1b771635db1f",
   "metadata": {},
   "outputs": [
    {
     "name": "stdout",
     "output_type": "stream",
     "text": [
      "['noahs-orders', 'noahs-products', 'noahs-orders_items', 'noahs-customers']\n",
      "[213232, 1278, 426541, 8260]\n"
     ]
    }
   ],
   "source": [
    "import pandas as pd\n",
    "import os\n",
    "filenames = [_.split('.')[0] for _ in os.listdir('./') if '.csv' in _]\n",
    "print(filenames)\n",
    "\n",
    "dfs = [pd.read_csv(filename + '.csv') for filename in filenames]\n",
    "df_orders, df_prod, df_order_items, df_customers = dfs\n",
    "print([len(_) for _ in [df_orders, df_prod, df_order_items, df_customers]])"
   ]
  },
  {
   "cell_type": "code",
   "execution_count": 4,
   "id": "5613a44a-5636-490f-ae23-71ea90e13169",
   "metadata": {},
   "outputs": [
    {
     "data": {
      "text/plain": [
       "10264     2017-05-13 10:58:07\n",
       "14649     2017-06-26 19:48:36\n",
       "21398     2017-09-02 13:13:47\n",
       "21817     2017-09-06 13:02:34\n",
       "24300     2017-10-01 08:59:38\n",
       "26933     2017-10-27 19:32:56\n",
       "28092     2017-11-08 13:30:37\n",
       "37405     2018-02-12 09:53:05\n",
       "44459     2018-04-23 21:26:57\n",
       "47063     2018-05-19 12:08:48\n",
       "53422     2018-07-22 16:00:13\n",
       "58746     2018-09-14 12:54:22\n",
       "69502     2018-12-31 12:26:58\n",
       "72740     2019-02-01 07:36:29\n",
       "84127     2019-05-25 11:11:23\n",
       "88349     2019-07-05 20:07:41\n",
       "94347     2019-09-03 20:45:45\n",
       "99134     2019-10-22 05:09:55\n",
       "109282    2020-02-01 12:10:51\n",
       "115568    2020-04-04 15:16:13\n",
       "123820    2020-06-28 11:36:06\n",
       "136826    2020-11-07 11:39:09\n",
       "143521    2021-01-11 18:52:55\n",
       "144440    2021-01-21 06:26:13\n",
       "160543    2021-07-03 10:55:19\n",
       "169966    2021-10-07 14:58:09\n",
       "171481    2021-10-23 10:15:32\n",
       "173752    2021-11-14 13:18:45\n",
       "179770    2022-01-13 18:37:23\n",
       "183611    2022-02-21 10:06:09\n",
       "189609    2022-04-23 14:25:36\n",
       "199308    2022-07-30 08:56:06\n",
       "Name: ordered, dtype: object"
      ]
     },
     "execution_count": 4,
     "metadata": {},
     "output_type": "execute_result"
    }
   ],
   "source": [
    "df_orders[ df_orders['customerid'] == 4167 ]['ordered']"
   ]
  }
 ],
 "metadata": {
  "kernelspec": {
   "display_name": "Python 3 (ipykernel)",
   "language": "python",
   "name": "python3"
  },
  "language_info": {
   "codemirror_mode": {
    "name": "ipython",
    "version": 3
   },
   "file_extension": ".py",
   "mimetype": "text/x-python",
   "name": "python",
   "nbconvert_exporter": "python",
   "pygments_lexer": "ipython3",
   "version": "3.12.1"
  }
 },
 "nbformat": 4,
 "nbformat_minor": 5
}
